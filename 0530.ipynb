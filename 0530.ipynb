{
  "nbformat": 4,
  "nbformat_minor": 0,
  "metadata": {
    "colab": {
      "name": "0530.ipynb",
      "provenance": [],
      "authorship_tag": "ABX9TyPFpq02jn1IQeSfzZQLrIcR",
      "include_colab_link": true
    },
    "kernelspec": {
      "name": "python3",
      "display_name": "Python 3"
    },
    "language_info": {
      "name": "python"
    }
  },
  "cells": [
    {
      "cell_type": "markdown",
      "metadata": {
        "id": "view-in-github",
        "colab_type": "text"
      },
      "source": [
        "<a href=\"https://colab.research.google.com/github/50y7vm0/Introduction-to-Computers/blob/main/0530.ipynb\" target=\"_parent\"><img src=\"https://colab.research.google.com/assets/colab-badge.svg\" alt=\"Open In Colab\"/></a>"
      ]
    },
    {
      "cell_type": "code",
      "execution_count": 1,
      "metadata": {
        "colab": {
          "base_uri": "https://localhost:8080/"
        },
        "id": "nusBoJ3wih3M",
        "outputId": "f9b75bca-9040-499a-80aa-4bbda079f107"
      },
      "outputs": [
        {
          "output_type": "stream",
          "name": "stdout",
          "text": [
            "55\n"
          ]
        }
      ],
      "source": [
        "total= n = 0\n",
        "while(n<= 10):\n",
        "  total += n\n",
        "  n +=1\n",
        "print(total)"
      ]
    },
    {
      "cell_type": "code",
      "source": [
        "total= n = 0\n",
        "while n<= 10:\n",
        "  total += n\n",
        "  n +=1\n",
        "print(total)"
      ],
      "metadata": {
        "colab": {
          "base_uri": "https://localhost:8080/"
        },
        "id": "d2nWOenlmJBc",
        "outputId": "9e330b05-fa90-414f-cd3b-ac6f5bc143c9"
      },
      "execution_count": 2,
      "outputs": [
        {
          "output_type": "stream",
          "name": "stdout",
          "text": [
            "55\n"
          ]
        }
      ]
    },
    {
      "cell_type": "code",
      "source": [
        "total = i = 1\n",
        "n = int(input('請輸入正整數n的值:'))\n",
        "while i<=n:\n",
        "  total *= i\n",
        "  i+=1\n",
        "print('%d!=%d'%(n,total))"
      ],
      "metadata": {
        "colab": {
          "base_uri": "https://localhost:8080/"
        },
        "id": "aKntx0nQmQy0",
        "outputId": "fe81aa9a-0f0b-4ea8-b3db-8eea9d36d8c9"
      },
      "execution_count": 4,
      "outputs": [
        {
          "output_type": "stream",
          "name": "stdout",
          "text": [
            "請輸入正整數n的值:5\n",
            "5!=120\n"
          ]
        }
      ]
    },
    {
      "cell_type": "code",
      "source": [
        "total = i = 0\n",
        "while i<=50:\n",
        "  total += i\n",
        "  i += 2\n",
        "print('0～50的偶數和結果是',total)"
      ],
      "metadata": {
        "colab": {
          "base_uri": "https://localhost:8080/"
        },
        "id": "C0ByJHo8oEi-",
        "outputId": "58de90d5-3019-47e4-de05-1e8c7c3154aa"
      },
      "execution_count": 5,
      "outputs": [
        {
          "output_type": "stream",
          "name": "stdout",
          "text": [
            "0～50的偶數和結果是 650\n"
          ]
        }
      ]
    },
    {
      "cell_type": "code",
      "source": [
        "total = 0\n",
        "i = 1\n",
        "while i<=50:\n",
        "  total += i\n",
        "  i += 2\n",
        "print('0～50的奇數和結果是',total)"
      ],
      "metadata": {
        "colab": {
          "base_uri": "https://localhost:8080/"
        },
        "id": "WmlALDJppFnz",
        "outputId": "a4cfe6d0-18da-4d12-9061-1bbe84da9b08"
      },
      "execution_count": 7,
      "outputs": [
        {
          "output_type": "stream",
          "name": "stdout",
          "text": [
            "0～50的奇數和結果是 625\n"
          ]
        }
      ]
    },
    {
      "cell_type": "code",
      "source": [
        "a = int(input('請輸入正整數:'))\n",
        "while a > 0:\n",
        "  for b in range(a,0,-1):\n",
        "   print('*', end = '' )\n",
        "  print()\n",
        "  a -= 1"
      ],
      "metadata": {
        "colab": {
          "base_uri": "https://localhost:8080/"
        },
        "id": "jxut0CqXpWWN",
        "outputId": "6fa0e1b3-6d47-42c9-af49-79b51eb0d35b"
      },
      "execution_count": 15,
      "outputs": [
        {
          "output_type": "stream",
          "name": "stdout",
          "text": [
            "請輸入正整數:7\n",
            "*******\n",
            "******\n",
            "*****\n",
            "****\n",
            "***\n",
            "**\n",
            "*\n"
          ]
        }
      ]
    },
    {
      "cell_type": "code",
      "source": [
        "total = 0\n",
        "for a in range (1,101):\n",
        " if a%3==0 or a%7==0:\n",
        "   total += a\n",
        "   a += 1\n",
        "print('數值1～100中，所有是3或7倍數的數之總和=',total)"
      ],
      "metadata": {
        "colab": {
          "base_uri": "https://localhost:8080/"
        },
        "id": "6GlvyLG7ranl",
        "outputId": "991f5af0-2d37-412e-aaeb-75839be220d8"
      },
      "execution_count": 24,
      "outputs": [
        {
          "output_type": "stream",
          "name": "stdout",
          "text": [
            "數值1～100中，所有是3或7倍數的數之總和= 2208\n"
          ]
        }
      ]
    },
    {
      "cell_type": "code",
      "source": [
        "a = int(input('請輸入正整數:'))\n",
        "c = 2\n",
        "print(a,'的因數有',end =' ' )\n",
        "for b in range(1,a+1):\n",
        "  if(a%b==0):\n",
        "    print(b,end =' ')\n",
        "print()\n",
        "\n",
        "while c < a:\n",
        "    if a % c == 0:\n",
        "        print(a,'不是質數')\n",
        "        break\n",
        "    a += 1\n",
        "\n",
        "if a == n:\n",
        "    print(a,'是質數')"
      ],
      "metadata": {
        "colab": {
          "base_uri": "https://localhost:8080/"
        },
        "id": "DO3LQdP0tvx3",
        "outputId": "29b9cf92-efdb-47a7-af36-b0f0d22918ba"
      },
      "execution_count": 48,
      "outputs": [
        {
          "output_type": "stream",
          "name": "stdout",
          "text": [
            "請輸入正整數:12\n",
            "12 的因數有 1 2 3 4 6 12 \n",
            "12 不是質數\n"
          ]
        }
      ]
    }
  ]
}