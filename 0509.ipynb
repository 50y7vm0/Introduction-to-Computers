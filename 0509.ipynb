{
  "nbformat": 4,
  "nbformat_minor": 0,
  "metadata": {
    "colab": {
      "name": "0509.ipynb",
      "provenance": [],
      "authorship_tag": "ABX9TyPB/XAWiPcAlwtA2SiyRtOy",
      "include_colab_link": true
    },
    "kernelspec": {
      "name": "python3",
      "display_name": "Python 3"
    },
    "language_info": {
      "name": "python"
    }
  },
  "cells": [
    {
      "cell_type": "markdown",
      "metadata": {
        "id": "view-in-github",
        "colab_type": "text"
      },
      "source": [
        "<a href=\"https://colab.research.google.com/github/50y7vm0/Introduction-to-Computers/blob/main/0509.ipynb\" target=\"_parent\"><img src=\"https://colab.research.google.com/assets/colab-badge.svg\" alt=\"Open In Colab\"/></a>"
      ]
    },
    {
      "cell_type": "code",
      "execution_count": 1,
      "metadata": {
        "colab": {
          "base_uri": "https://localhost:8080/"
        },
        "id": "86Klrpa88VFM",
        "outputId": "2fdd9820-20d4-497a-b34e-5b97cf85302c"
      },
      "outputs": [
        {
          "output_type": "stream",
          "name": "stdout",
          "text": [
            "請輸入你的體溫37.1\n",
            "體溫略高！\n"
          ]
        }
      ],
      "source": [
        "temp= float(input(\"請輸入你的體溫\"))\n",
        "if temp >= 37.5:\n",
        "  print(\"體溫過高\")\n",
        "elif temp >= 37 and temp <37.4:\n",
        "  print(\"體溫略高！\")\n",
        "\n",
        "else:\n",
        "  print(\"體溫異常，請重新量測！\")"
      ]
    },
    {
      "cell_type": "code",
      "source": [
        "score = input(\"請輸入成績\")\n",
        "if (int(score) >= 90):\n",
        "  print(\"A\")\n",
        "elif (int(score) >= 80):\n",
        "  print(\"B\")\n",
        "elif (int(score) >= 70):\n",
        "  print(\"C\")\n",
        "elif (int(score) >= 60):\n",
        "  print(\"D\")\n",
        "else:\n",
        "  print(\"E\")"
      ],
      "metadata": {
        "colab": {
          "base_uri": "https://localhost:8080/"
        },
        "id": "U0oY5lnH_sBl",
        "outputId": "8d230bcb-b871-45aa-b644-f75a49739fc0"
      },
      "execution_count": 4,
      "outputs": [
        {
          "output_type": "stream",
          "name": "stdout",
          "text": [
            "請輸入成績40\n",
            "E\n"
          ]
        }
      ]
    },
    {
      "cell_type": "code",
      "source": [
        "money = int(input(\"請輸入購物金額\"))\n",
        "if (money >= 10000):\n",
        "  if(money >= 100000):\n",
        "    print(\"八折\",money * 0.8, end = \"元\\n\")\n",
        "  elif(money >= 50000):\n",
        "    print(\"八五折\",money * 0.85, end = \"元\\n\")\n",
        "  elif(money >= 30000):\n",
        "    print(\"九折\",money * 0.9, end = \"元\\n\")\n",
        "  else:\n",
        "    print(\"九五折\",money * 0.95, end = \"元\\n\")\n",
        "else:\n",
        "  print(\"沒打折\",money, end = \"元\\n\")"
      ],
      "metadata": {
        "colab": {
          "base_uri": "https://localhost:8080/"
        },
        "id": "tuM3FfXZE4_8",
        "outputId": "e72b3ced-3f3d-4b3c-cf9e-96fec4cbfaee"
      },
      "execution_count": 5,
      "outputs": [
        {
          "output_type": "stream",
          "name": "stdout",
          "text": [
            "請輸入購物金額10020\n",
            "九五折 9519.0元\n"
          ]
        }
      ]
    },
    {
      "cell_type": "code",
      "source": [
        "month = int(input(\"請輸入月份\"))\n",
        "if( month >= 1):\n",
        "  if(month == 1):\n",
        "    print(month,\"月是冬天！\")\n",
        "  elif( month == 2 ):\n",
        "    print(month,\"月是冬天！\")\n",
        "  elif( month == 3 ):\n",
        "    print(month,\"月是春天！\")\n",
        "  elif( month == 4 ):\n",
        "    print(month,\"月是春天！\")\n",
        "  elif(month == 5 ):\n",
        "    print(month,\"月是春天！\")\n",
        "  elif(month == 6 ):\n",
        "    print(month,\"月是夏天！\")\n",
        "  elif(month == 7 ):\n",
        "    print(month,\"月是夏天！\")\n",
        "  elif(month == 8 ):\n",
        "    print(month,\"月是夏天！\")\n",
        "  elif(month == 9 ):\n",
        "    print(month,\"月是秋天！\")\n",
        "  elif(month == 10 ):\n",
        "    print(month,\"月是秋天！\")\n",
        "  elif(month == 11 ):\n",
        "    print(month,\"月是秋天！\")\n",
        "  elif(month == 12 ):\n",
        "    print(month,\"月是冬天！\")\n",
        "  else:\n",
        "    print(\"月份不在範圍內！\")\n",
        "else:\n",
        "  print(\"月份不在範圍內！\")\n"
      ],
      "metadata": {
        "colab": {
          "base_uri": "https://localhost:8080/"
        },
        "id": "bMQOa048JkWp",
        "outputId": "eedf3e4d-2e23-40a2-caa9-c4f5189a93fc"
      },
      "execution_count": 49,
      "outputs": [
        {
          "output_type": "stream",
          "name": "stdout",
          "text": [
            "請輸入月份1\n",
            "1 月是冬天！\n"
          ]
        }
      ]
    },
    {
      "cell_type": "code",
      "source": [
        "money = int(input(\"請輸入今年收入淨額:\"))\n",
        "if(money >= 2000000 ):\n",
        "    print(\"付稅金額:\",money*0.3,end = \"元\\n\")\n",
        "elif(money >= 1000000 ):\n",
        "    print(\"付稅金額:\",money*0.21,end = \"元\\n\")  \n",
        "elif(money >= 600000 ):\n",
        "    print(\"付稅金額:\",money*0.13,end = \"元\\n\")   \n",
        "elif(money >= 300000):\n",
        "  print(\"付稅金額:\",money*0.06,end = \"元\\n\")\n",
        "else:\n",
        "  print(\"付稅金額:\",0,end = \"元\\n\")"
      ],
      "metadata": {
        "colab": {
          "base_uri": "https://localhost:8080/"
        },
        "id": "EsNFSyz0QB4q",
        "outputId": "ccc1110d-fb9e-4cfb-c7f6-12c9fc525240"
      },
      "execution_count": 53,
      "outputs": [
        {
          "output_type": "stream",
          "name": "stdout",
          "text": [
            "請輸入今年收入淨額:2547839\n",
            "付稅金額: 764351.7元\n"
          ]
        }
      ]
    }
  ]
}